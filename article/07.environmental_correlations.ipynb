{
 "cells": [
  {
   "cell_type": "markdown",
   "metadata": {},
   "source": [
    "# Correlating transporter abundances to environmental data"
   ]
  },
  {
   "cell_type": "markdown",
   "metadata": {},
   "source": [
    "## Overview"
   ]
  },
  {
   "cell_type": "markdown",
   "metadata": {},
   "source": [
    "Here normalized transporter abundances are compared to the environmental data."
   ]
  },
  {
   "cell_type": "code",
   "execution_count": null,
   "metadata": {},
   "outputs": [],
   "source": [
    "import pandas as pd, matplotlib.pyplot as plt, seaborn as sns, numpy as np\n",
    "from scipy.stats import spearmanr\n",
    "from statsmodels.stats import multitest\n",
    "from scipy.spatial.distance import pdist\n",
    "from scipy.cluster.hierarchy import linkage, dendrogram, leaves_list\n",
    "from datetime import date\n",
    "%config InlineBackend.figure_format = 'svg'\n",
    "%matplotlib inline\n",
    "plt.style.use('ggplot')"
   ]
  },
  {
   "cell_type": "markdown",
   "metadata": {},
   "source": [
    "## Functionality"
   ]
  },
  {
   "cell_type": "code",
   "execution_count": null,
   "metadata": {},
   "outputs": [],
   "source": [
    "def get_representatives(df):\n",
    "    '''Finds representative families for each transporter based on highest mean'''\n",
    "    df_mean = df.groupby([\"fam\",\"transporter\"]).sum().mean(axis=1).reset_index()\n",
    "    df_mean.sort_values(0,ascending=False,inplace=True)\n",
    "    df_mean.index = list(range(0,len(df_mean)))\n",
    "    reps = {}\n",
    "    for i in df_mean.index:\n",
    "        fam = df_mean.loc[i,\"fam\"]\n",
    "        t = df_mean.loc[i,\"transporter\"]\n",
    "        if t in reps.keys():\n",
    "            continue\n",
    "        reps[t] = fam\n",
    "    return reps"
   ]
  },
  {
   "cell_type": "code",
   "execution_count": null,
   "metadata": {},
   "outputs": [],
   "source": [
    "def add_timepoints(df):\n",
    "    timepoints = [date(2000+int(s[0:2]),int(s[2:4]),int(s[4:])).toordinal() for s in df.index]\n",
    "    df = df.assign(Day=pd.Series(timepoints, index=df.index))\n",
    "    dayrange = range(min(df.Day),max(df.Day)+1)\n",
    "    _df = pd.DataFrame()\n",
    "    for day in dayrange:\n",
    "        if day in list(df.Day):\n",
    "            continue\n",
    "        else:\n",
    "            _data = {'Temperature': np.nan,'Salinity': np.nan,'Chla': np.nan,'Nitrate': np.nan,'Phosphate': np.nan,\n",
    "             'Silicate': np.nan,'Ammonium': np.nan,'DOC': np.nan,'TotalN': np.nan, 'Day': day}\n",
    "            _df = pd.concat([pd.DataFrame(_data, index=[0]),_df])\n",
    "    return pd.concat([df,_df.loc[:,df.columns]]).sort_values(\"Day\")"
   ]
  },
  {
   "cell_type": "code",
   "execution_count": null,
   "metadata": {},
   "outputs": [],
   "source": [
    "def standardize(df):\n",
    "    ts_stand = (df - df.mean()) / df.std()\n",
    "    return ts_stand"
   ]
  },
  {
   "cell_type": "code",
   "execution_count": null,
   "metadata": {},
   "outputs": [],
   "source": [
    "def annotate_clustermap(ax, pvals, dec=1, minval=0.5):\n",
    "    rows = ax.data.iloc[ax.dendrogram_row.reordered_ind,ax.dendrogram_col.reordered_ind].index\n",
    "    cols = ax.data.iloc[ax.dendrogram_row.reordered_ind,ax.dendrogram_col.reordered_ind].columns\n",
    "    # Extract plotted data from ax\n",
    "    data_norm = ax.data2d\n",
    "    # Extract original data\n",
    "    a = ax.data\n",
    "    if dec == 0:\n",
    "        a = a.astype(int)\n",
    "    else:\n",
    "        a = np.round(a,dec)\n",
    "    row_labels = [x.get_text() for x in ax.ax_heatmap.yaxis.get_ticklabels()]\n",
    "    #row_labels.reverse()\n",
    "    col_labels = [x.get_text() for x in ax.ax_heatmap.xaxis.get_ticklabels()]\n",
    "    # Iterate each row item\n",
    "    for row in range(len(a.index)):\n",
    "        row_label = row_labels[row]\n",
    "        for col in range(len(a.columns)):\n",
    "            col_label = col_labels[col]\n",
    "            pval = pvals.loc[row_label, col_label]\n",
    "            zval = data_norm.loc[row_label,col_label]\n",
    "            val = a.loc[row_label,col_label]\n",
    "            if abs(zval) >= 0.5: \n",
    "                textcol = \"white\"\n",
    "            else:\n",
    "                textcol = \"black\"\n",
    "            if val<=minval: continue\n",
    "            add = \"\"\n",
    "            if pval < 0.05:\n",
    "                add = \"*\"\n",
    "            ax.ax_heatmap.text(col+0.5,row+0.5,\"{}{}\".format(val,add),fontdict={'size':6,'color':textcol, 'horizontalalignment': 'center', 'verticalalignment': 'center'})\n",
    "    return row_labels, col_labels"
   ]
  },
  {
   "cell_type": "code",
   "execution_count": null,
   "metadata": {},
   "outputs": [],
   "source": [
    "def fdr_correct(df):\n",
    "    values = []\n",
    "    for item in df.values:\n",
    "        values+=list(item)\n",
    "    all_corrected_values = multitest.fdrcorrection(values)[1]\n",
    "    df_fdr = df.copy(deep=True)\n",
    "    fdr_values = []\n",
    "    i = 0\n",
    "    for values in df.values:\n",
    "        l = []\n",
    "        for val in values:\n",
    "            l.append(all_corrected_values[i])\n",
    "            i+=1\n",
    "        fdr_values.append(l)\n",
    "    for i, t in enumerate(df_fdr.index):\n",
    "        df_fdr.loc[t,:] = fdr_values[i]\n",
    "    return df_fdr"
   ]
  },
  {
   "cell_type": "code",
   "execution_count": null,
   "metadata": {},
   "outputs": [],
   "source": [
    "cats = [\"Anions\",\"Cations\",\"NH3 Nitrate\",\"Urea\",\"Phosphate\",\"Phosphonate\",\"AA peptide\",\"Nucleoside\",\"Carbohydrate\"]\n",
    "cat_cols = sns.color_palette(\"Paired\", 6) + sns.color_palette(\"Dark2\",4)[1:]\n",
    "cat_lut = dict(zip(map(str,cats),cat_cols))\n",
    "cat_lut[\"Other\"] = \"black\"\n",
    "cat_lut[\"Rare nutr\"] = \"grey\""
   ]
  },
  {
   "cell_type": "code",
   "execution_count": null,
   "metadata": {},
   "outputs": [],
   "source": [
    "meta = pd.read_csv(\"data/LMO.time.series.metadata.csv\", header=0, sep=\"\\t\", index_col=0)\n",
    "meta.rename(index = lambda x: str(x)[2:],inplace=True)\n",
    "metavars = [\"Temperature\",\"Salinity\",\"Chla\",\"Nitrate\",\"Phosphate\",\"Silicate\",\"Ammonium\",\"DOC\",\"TotalN\"]"
   ]
  },
  {
   "cell_type": "markdown",
   "metadata": {},
   "source": [
    "## Metagenome"
   ]
  },
  {
   "cell_type": "code",
   "execution_count": null,
   "metadata": {},
   "outputs": [],
   "source": [
    "# Read normalized abundances of select transporters\n",
    "mg_trans = pd.read_csv(\"results/mg/select_trans.tpm.tsv\", header=0, index_col=0, sep=\"\\t\")\n",
    "mg_trans_genes = pd.read_csv(\"results/mg/select_trans_genes.tpm.tsv\", header=0, index_col=0, sep=\"\\t\")"
   ]
  },
  {
   "cell_type": "code",
   "execution_count": null,
   "metadata": {},
   "outputs": [],
   "source": [
    "# Make metadata conform\n",
    "meta_mg = meta.loc[mg_trans.columns[4:],metavars]"
   ]
  },
  {
   "cell_type": "code",
   "execution_count": null,
   "metadata": {},
   "outputs": [],
   "source": [
    "# Add empty timepoints\n",
    "plot_data = add_timepoints(meta_mg)\n",
    "plot_data[\"sample\"] = plot_data.index\n",
    "plot_data = pd.melt(plot_data,id_vars=[\"sample\",\"Day\"])"
   ]
  },
  {
   "cell_type": "code",
   "execution_count": null,
   "metadata": {},
   "outputs": [],
   "source": [
    "fig, axes = plt.subplots(ncols=3, nrows=3, figsize=(12,8), sharex=True, sharey=False)\n",
    "all_axes = list(axes[0])+list(axes[1])+list(axes[2])\n",
    "# Set up ticks\n",
    "xticks = []\n",
    "xticklabels = []\n",
    "for i, day in enumerate(range(min(plot_data.Day),max(plot_data.Day)+1)):\n",
    "    if day in list(plot_data.Day):\n",
    "        xticks.append(i)\n",
    "        xticklabels.append(plot_data.loc[plot_data.Day==day,\"sample\"].unique()[0])\n",
    "# Plot subplots\n",
    "for i, variable in enumerate(plot_data.variable.unique()):\n",
    "    ax = sns.pointplot(data=plot_data.loc[plot_data.variable==variable],x=\"Day\",y=\"value\",\n",
    "                       scale=0.5, ax=all_axes[i])\n",
    "    ax.set_xlim(-10,len(range(min(plot_data.Day),max(plot_data.Day)+1))+10)\n",
    "    ax.set_xticks(xticks);\n",
    "    ax.set_xticklabels(xticklabels, rotation=90, fontsize=6);\n",
    "    ax.set_title(variable, fontsize=10)\n",
    "    ax.set_ylabel(\"\")\n",
    "    ax.set_xlabel(\"\")"
   ]
  },
  {
   "cell_type": "code",
   "execution_count": null,
   "metadata": {},
   "outputs": [],
   "source": [
    "meta_mg.loc[meta_mg.DOC>400,\"DOC\"] = np.nan"
   ]
  },
  {
   "cell_type": "code",
   "execution_count": null,
   "metadata": {},
   "outputs": [],
   "source": [
    "meta_mg_stand = standardize(meta_mg)"
   ]
  },
  {
   "cell_type": "code",
   "execution_count": null,
   "metadata": {},
   "outputs": [],
   "source": [
    "mg_stand = standardize(mg_trans.groupby(level=0).sum())"
   ]
  },
  {
   "cell_type": "code",
   "execution_count": null,
   "metadata": {},
   "outputs": [],
   "source": [
    "# Get representative TIGRFAMs for use with y-axis\n",
    "trans_reps = get_representatives(mg_trans_genes)"
   ]
  },
  {
   "cell_type": "markdown",
   "metadata": {},
   "source": [
    "### Correlate"
   ]
  },
  {
   "cell_type": "code",
   "execution_count": null,
   "metadata": {},
   "outputs": [],
   "source": [
    "mg_cordf = pd.merge(mg_stand.T,meta_mg_stand,left_index=True,right_index=True)\n",
    "mg_cor,mg_p = pd.DataFrame(spearmanr(mg_cordf)[0],columns=mg_cordf.columns,index=mg_cordf.columns),pd.DataFrame(spearmanr(mg_cordf)[1],columns=mg_cordf.columns,index=mg_cordf.columns)\n",
    "mg_cor.drop(metavars,inplace=True)\n",
    "mg_p.drop(metavars,inplace=True)\n",
    "mg_cor.drop(mg_stand.index,inplace=True,axis=1, errors=\"ignore\")\n",
    "mg_p.drop(mg_stand.index,inplace=True,axis=1, errors=\"ignore\")"
   ]
  },
  {
   "cell_type": "code",
   "execution_count": null,
   "metadata": {},
   "outputs": [],
   "source": [
    "# Get corrected p-values\n",
    "mg_p_fdr = fdr_correct(mg_p)"
   ]
  },
  {
   "cell_type": "code",
   "execution_count": null,
   "metadata": {
    "scrolled": false
   },
   "outputs": [],
   "source": [
    "# Get significant transporters\n",
    "mg_cor_sig = set(mg_p_fdr.loc[mg_p_fdr.min(axis=1)<0.05].index).intersection(set(mg_cor.loc[np.abs(mg_cor).groupby(level=0).max().max(axis=1)>=0.5].index))\n",
    "\n",
    "# Assign row colors\n",
    "row_cols = pd.Series([mg_trans.loc[t,\"substrate_category\"] for t in mg_cor_sig],index=mg_cor_sig).map(cat_lut)\n",
    "row_cols.name=\"Substrate\"\n",
    "\n",
    "mg_ax = sns.clustermap(mg_cor.loc[mg_cor_sig],figsize=(3,7),linewidths=0.2,method=\"complete\",metric=\"correlation\", \n",
    "                      row_colors=row_cols, cmap=\"RdBu_r\")\n",
    "row_labels, col_labels = annotate_clustermap(ax=mg_ax,pvals=mg_p_fdr.loc[mg_cor_sig], minval=-10, dec=1)\n",
    "\n",
    "# Change transporter labels to TIGRFAM\n",
    "ticklocs = []\n",
    "ticklabels = []\n",
    "for i,item in enumerate(row_labels):\n",
    "    ticklocs.append(i+0.5)\n",
    "    fam = trans_reps[item]\n",
    "    name = mg_trans_genes.loc[mg_trans_genes.fam==fam,\"name\"].unique()[0]\n",
    "    ticklabels.append(\"{} ({})\".format(fam,name))\n",
    "mg_ax.ax_heatmap.yaxis.set_ticks(ticklocs)\n",
    "mg_ax.ax_heatmap.yaxis.set_ticklabels(ticklabels,fontsize=8);\n",
    "\n",
    "plt.setp(mg_ax.ax_heatmap.yaxis.get_majorticklabels(), rotation=0);\n",
    "plt.savefig(\"figures/Figure_9.eps\", bbox_inches=\"tight\")"
   ]
  },
  {
   "cell_type": "markdown",
   "metadata": {},
   "source": [
    "## Metatranscriptome"
   ]
  },
  {
   "cell_type": "code",
   "execution_count": null,
   "metadata": {},
   "outputs": [],
   "source": [
    "mt_trans = pd.read_csv(\"results/mt/select_trans.tpm.tsv\", header=0, index_col=0, sep=\"\\t\")\n",
    "mt_trans_genes = pd.read_csv(\"results/mt/select_trans_genes.tpm.tsv\", header=0, index_col=0, sep=\"\\t\")"
   ]
  },
  {
   "cell_type": "code",
   "execution_count": null,
   "metadata": {},
   "outputs": [],
   "source": [
    "meta_mt = meta.loc[mt_trans.columns[4:],metavars]"
   ]
  },
  {
   "cell_type": "code",
   "execution_count": null,
   "metadata": {},
   "outputs": [],
   "source": [
    "# Add empty timepoints\n",
    "plot_data = add_timepoints(meta_mt)\n",
    "plot_data[\"sample\"] = plot_data.index\n",
    "plot_data = pd.melt(plot_data,id_vars=[\"sample\",\"Day\"])"
   ]
  },
  {
   "cell_type": "code",
   "execution_count": null,
   "metadata": {},
   "outputs": [],
   "source": [
    "fig, axes = plt.subplots(ncols=3, nrows=3, figsize=(12,8), sharex=True, sharey=False)\n",
    "all_axes = list(axes[0])+list(axes[1])+list(axes[2])\n",
    "# Set up ticks\n",
    "xticks = []\n",
    "xticklabels = []\n",
    "for i, day in enumerate(range(min(plot_data.Day),max(plot_data.Day)+1)):\n",
    "    if day in list(plot_data.Day):\n",
    "        xticks.append(i)\n",
    "        xticklabels.append(plot_data.loc[plot_data.Day==day,\"sample\"].unique()[0])\n",
    "# Plot subplots\n",
    "for i, variable in enumerate(plot_data.variable.unique()):\n",
    "    ax = sns.pointplot(data=plot_data.loc[plot_data.variable==variable],x=\"Day\",y=\"value\",\n",
    "                       scale=0.5, ax=all_axes[i])\n",
    "    ax.set_xlim(-10,len(range(min(plot_data.Day),max(plot_data.Day)+1))+10)\n",
    "    ax.set_xticks(xticks);\n",
    "    ax.set_xticklabels(xticklabels, rotation=90, fontsize=6);\n",
    "    ax.set_title(variable, fontsize=10)\n",
    "    ax.set_ylabel(\"\")\n",
    "    ax.set_xlabel(\"\")"
   ]
  },
  {
   "cell_type": "code",
   "execution_count": null,
   "metadata": {},
   "outputs": [],
   "source": [
    "meta_mt_stand = standardize(meta_mt)"
   ]
  },
  {
   "cell_type": "code",
   "execution_count": null,
   "metadata": {},
   "outputs": [],
   "source": [
    "mt_stand = standardize(mt_trans.groupby(level=0).sum())"
   ]
  },
  {
   "cell_type": "markdown",
   "metadata": {},
   "source": [
    "### Correlate"
   ]
  },
  {
   "cell_type": "code",
   "execution_count": null,
   "metadata": {},
   "outputs": [],
   "source": [
    "mt_cordf = pd.merge(mt_stand.T,meta_mt_stand,left_index=True,right_index=True)\n",
    "mt_cor,mt_p = pd.DataFrame(spearmanr(mt_cordf)[0],columns=mt_cordf.columns,index=mt_cordf.columns),pd.DataFrame(spearmanr(mt_cordf)[1],columns=mt_cordf.columns,index=mt_cordf.columns)\n",
    "mt_cor.drop(metavars,inplace=True)\n",
    "mt_p.drop(metavars,inplace=True)\n",
    "mt_cor.drop(mt_stand.index,inplace=True,axis=1, errors=\"ignore\")\n",
    "mt_p.drop(mt_stand.index,inplace=True,axis=1, errors=\"ignore\")"
   ]
  },
  {
   "cell_type": "code",
   "execution_count": null,
   "metadata": {},
   "outputs": [],
   "source": [
    "# Get corrected p-values\n",
    "mt_p_fdr = fdr_correct(mt_p)"
   ]
  },
  {
   "cell_type": "code",
   "execution_count": null,
   "metadata": {
    "scrolled": false
   },
   "outputs": [],
   "source": [
    "# Get significant transporters\n",
    "# Because there are much fewer transporters found to be significant here, we plot all transporters \n",
    "# that have a abs(correlation) of at least 0.5 to one of the environmental variables and indicate signficant correlations\n",
    "# with '*'\n",
    "mt_cor_sig = set(mt_cor.loc[(mt_cor.min(axis=1)<=-0.5)|(mt_cor.max(axis=1)>=0.5)].index)\n",
    "# Assign row colors\n",
    "row_cols = pd.Series([mt_trans.loc[t,\"substrate_category\"] for t in mt_cor_sig],index=mt_cor_sig).map(cat_lut)\n",
    "row_cols.name=\"Substrate\"\n",
    "\n",
    "mt_ax = sns.clustermap(mt_cor.loc[mt_cor_sig],figsize=(3,7),linewidths=0.2,method=\"complete\",metric=\"correlation\", \n",
    "                      row_colors=row_cols, cmap=\"RdBu_r\")\n",
    "row_labels, col_labels = annotate_clustermap(ax=mt_ax,pvals=mt_p_fdr.loc[mt_cor_sig], minval=-10,dec=1)\n",
    "#mt_ax.ax_heatmap.yaxis.set_ticklabels([item.get_text()+\" (\"+mt_trans.loc[item.get_text(),\"name\"]+\")\" for item in mt_ax.ax_heatmap.yaxis.get_ticklabels()]);\n",
    "\n",
    "# Change transporter labels to TIGRFAM\n",
    "ticklocs = []\n",
    "ticklabels = []\n",
    "for i,item in enumerate(row_labels):\n",
    "    ticklocs.append(i+0.5)\n",
    "    fam = trans_reps[item]\n",
    "    name = mg_trans_genes.loc[mg_trans_genes.fam==fam,\"name\"].unique()[0]\n",
    "    ticklabels.append(\"{} ({})\".format(fam,name))\n",
    "mt_ax.ax_heatmap.yaxis.set_ticks(ticklocs)\n",
    "mt_ax.ax_heatmap.yaxis.set_ticklabels(ticklabels,fontsize=8);\n",
    "\n",
    "plt.setp(mt_ax.ax_heatmap.yaxis.get_majorticklabels(), rotation=0);"
   ]
  }
 ],
 "metadata": {
  "kernelspec": {
   "display_name": "Python 3",
   "language": "python",
   "name": "python3"
  },
  "language_info": {
   "codemirror_mode": {
    "name": "ipython",
    "version": 3
   },
   "file_extension": ".py",
   "mimetype": "text/x-python",
   "name": "python",
   "nbconvert_exporter": "python",
   "pygments_lexer": "ipython3",
   "version": "3.6.7"
  }
 },
 "nbformat": 4,
 "nbformat_minor": 2
}
